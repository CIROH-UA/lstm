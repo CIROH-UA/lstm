{
 "cells": [
  {
   "cell_type": "markdown",
   "metadata": {},
   "source": [
    "# Basic Model Interface (BMI) for streamflow prediction using Long Short-Term Memory (LSTM) networks\n",
    "This Long Short-Term Memory (LSTM) network was developed for use in the [Next Generation National Water Model (Nextgen)](https://github.com/NOAA-OWP/ngen). Nextgen runs models with [Basic Model Interface (BMI)](https://bmi.readthedocs.io/en/latest/)."
   ]
  },
  {
   "cell_type": "markdown",
   "metadata": {
    "tags": []
   },
   "source": [
    "### These libraries should all be available in the environment.yml through the command\n",
    "`conda activate bmi_lstm`\n",
    "#### Make sure that the library is installed\n",
    "`pip install lstm`"
   ]
  },
  {
   "cell_type": "code",
   "execution_count": 1,
   "metadata": {},
   "outputs": [],
   "source": [
    "import torch\n",
    "import numpy as np\n",
    "import matplotlib.pyplot as plt\n",
    "from pathlib import Path\n",
    "from netCDF4 import Dataset\n",
    "from lstm import bmi_lstm  # Load module bmi_lstm (bmi_lstm.py) from lstm package.\n",
    "import pickle"
   ]
  },
  {
   "cell_type": "markdown",
   "metadata": {},
   "source": [
    "### Set path to the project/repo folder for the LSTM model\n",
    "\n",
    "When the LSTM Python model is used within NextGen, this folder will be in the \"ngen\" folder at: ngen/extern/lstm_py, and the LSTM Python package will be at: ngen/extern/{repo_name}/{package_name}.  Note that paths to required datasets will be relative to this project folder.\n",
    "\n",
    "You will need to set your full local path `lstm_dir` to directory where you cloned the repo\n"
   ]
  },
  {
   "cell_type": "code",
   "execution_count": 2,
   "metadata": {},
   "outputs": [],
   "source": [
    "import sys\n",
    "import os, os.path\n",
    "lstm_dir = os.path.expanduser('../lstm/')\n",
    "os.chdir( lstm_dir )\n",
    "import pandas as pd"
   ]
  },
  {
   "cell_type": "markdown",
   "metadata": {},
   "source": [
    "### This sample dataset comes from NeuralHydrology: \n",
    "These are just samples. These models can run with any forcing data. This is just a sample that is used for examples within NeuralHydrology.\n",
    "https://github.com/neuralhydrology/neuralhydrology/tree/master/test/test_data/camels_us/hourly\n",
    "* 02064000 Falling River nr Naruna, VA\n",
    "* 01547700 Marsh Creek at Blanchard, PA\n",
    "* 03015500 Brokenstraw Creek at Youngsville, PA\n",
    "* 01022500 Narraguagus River at Cherryfield, Maine"
   ]
  },
  {
   "cell_type": "code",
   "execution_count": 3,
   "metadata": {},
   "outputs": [
    {
     "name": "stdout",
     "output_type": "stream",
     "text": [
      "                     discharge_cfs\n",
      "datetime                          \n",
      "1998-10-01 01:00:00         141.25\n",
      "1998-10-01 02:00:00         142.00\n",
      "1998-10-01 03:00:00         142.00\n",
      "1998-10-01 04:00:00         142.00\n",
      "1998-10-01 05:00:00         142.00\n",
      "...                            ...\n",
      "2007-10-01 19:00:00         201.75\n",
      "2007-10-01 20:00:00         199.50\n",
      "2007-10-01 21:00:00         196.50\n",
      "2007-10-01 22:00:00         191.25\n",
      "2007-10-01 23:00:00         189.00\n",
      "\n",
      "[78911 rows x 1 columns]\n"
     ]
    }
   ],
   "source": [
    "with open('../../data/14216500_usgs_1_hour.txt', 'r') as f:\n",
    "    usgs_obs = pd.read_csv(f)\n",
    "usgs_obs = usgs_obs.set_index(\"datetime\")\n",
    "usgs_obs.index = pd.to_datetime(usgs_obs.index)\n",
    "print(usgs_obs)"
   ]
  },
  {
   "cell_type": "code",
   "execution_count": 4,
   "metadata": {},
   "outputs": [],
   "source": [
    "with open(\"/Users/jmframe/data/14216500_1980_to_2024_agg_rounded.csv\", \"r\") as f:\n",
    "    df14216500 = pd.read_csv(f)\n",
    "df14216500= df14216500.set_index(\"time\")\n",
    "df14216500.index = pd.to_datetime(df14216500.index)\n",
    "df14216500 = df14216500[\"1998-10-01 00:00:00\":\"2007-10-01 23:00:00\"]"
   ]
  },
  {
   "cell_type": "code",
   "execution_count": 5,
   "metadata": {},
   "outputs": [
    {
     "data": {
      "text/html": [
       "<div>\n",
       "<style scoped>\n",
       "    .dataframe tbody tr th:only-of-type {\n",
       "        vertical-align: middle;\n",
       "    }\n",
       "\n",
       "    .dataframe tbody tr th {\n",
       "        vertical-align: top;\n",
       "    }\n",
       "\n",
       "    .dataframe thead th {\n",
       "        text-align: right;\n",
       "    }\n",
       "</style>\n",
       "<table border=\"1\" class=\"dataframe\">\n",
       "  <thead>\n",
       "    <tr style=\"text-align: right;\">\n",
       "      <th></th>\n",
       "      <th>APCP_surface</th>\n",
       "      <th>DLWRF_surface</th>\n",
       "      <th>DSWRF_surface</th>\n",
       "      <th>PRES_surface</th>\n",
       "      <th>SPFH_2maboveground</th>\n",
       "      <th>TMP_2maboveground</th>\n",
       "      <th>UGRD_10maboveground</th>\n",
       "      <th>VGRD_10maboveground</th>\n",
       "    </tr>\n",
       "    <tr>\n",
       "      <th>time</th>\n",
       "      <th></th>\n",
       "      <th></th>\n",
       "      <th></th>\n",
       "      <th></th>\n",
       "      <th></th>\n",
       "      <th></th>\n",
       "      <th></th>\n",
       "      <th></th>\n",
       "    </tr>\n",
       "  </thead>\n",
       "  <tbody>\n",
       "    <tr>\n",
       "      <th>1998-10-01 00:00:00</th>\n",
       "      <td>0.0</td>\n",
       "      <td>297.6</td>\n",
       "      <td>237.8</td>\n",
       "      <td>95230.0</td>\n",
       "      <td>0.0071</td>\n",
       "      <td>294.7</td>\n",
       "      <td>-3.5</td>\n",
       "      <td>2.2</td>\n",
       "    </tr>\n",
       "    <tr>\n",
       "      <th>1998-10-01 01:00:00</th>\n",
       "      <td>0.0</td>\n",
       "      <td>295.8</td>\n",
       "      <td>106.4</td>\n",
       "      <td>95250.0</td>\n",
       "      <td>0.0065</td>\n",
       "      <td>292.4</td>\n",
       "      <td>-3.2</td>\n",
       "      <td>2.0</td>\n",
       "    </tr>\n",
       "    <tr>\n",
       "      <th>1998-10-01 02:00:00</th>\n",
       "      <td>0.0</td>\n",
       "      <td>294.1</td>\n",
       "      <td>0.0</td>\n",
       "      <td>95260.0</td>\n",
       "      <td>0.0060</td>\n",
       "      <td>290.2</td>\n",
       "      <td>-2.8</td>\n",
       "      <td>1.7</td>\n",
       "    </tr>\n",
       "    <tr>\n",
       "      <th>1998-10-01 03:00:00</th>\n",
       "      <td>0.0</td>\n",
       "      <td>277.2</td>\n",
       "      <td>0.0</td>\n",
       "      <td>95290.0</td>\n",
       "      <td>0.0055</td>\n",
       "      <td>287.9</td>\n",
       "      <td>-2.5</td>\n",
       "      <td>1.4</td>\n",
       "    </tr>\n",
       "    <tr>\n",
       "      <th>1998-10-01 04:00:00</th>\n",
       "      <td>0.0</td>\n",
       "      <td>276.1</td>\n",
       "      <td>0.0</td>\n",
       "      <td>95260.0</td>\n",
       "      <td>0.0054</td>\n",
       "      <td>287.2</td>\n",
       "      <td>-2.0</td>\n",
       "      <td>1.8</td>\n",
       "    </tr>\n",
       "  </tbody>\n",
       "</table>\n",
       "</div>"
      ],
      "text/plain": [
       "                     APCP_surface  DLWRF_surface  DSWRF_surface  PRES_surface  \\\n",
       "time                                                                            \n",
       "1998-10-01 00:00:00           0.0          297.6          237.8       95230.0   \n",
       "1998-10-01 01:00:00           0.0          295.8          106.4       95250.0   \n",
       "1998-10-01 02:00:00           0.0          294.1            0.0       95260.0   \n",
       "1998-10-01 03:00:00           0.0          277.2            0.0       95290.0   \n",
       "1998-10-01 04:00:00           0.0          276.1            0.0       95260.0   \n",
       "\n",
       "                     SPFH_2maboveground  TMP_2maboveground  \\\n",
       "time                                                         \n",
       "1998-10-01 00:00:00              0.0071              294.7   \n",
       "1998-10-01 01:00:00              0.0065              292.4   \n",
       "1998-10-01 02:00:00              0.0060              290.2   \n",
       "1998-10-01 03:00:00              0.0055              287.9   \n",
       "1998-10-01 04:00:00              0.0054              287.2   \n",
       "\n",
       "                     UGRD_10maboveground  VGRD_10maboveground  \n",
       "time                                                           \n",
       "1998-10-01 00:00:00                 -3.5                  2.2  \n",
       "1998-10-01 01:00:00                 -3.2                  2.0  \n",
       "1998-10-01 02:00:00                 -2.8                  1.7  \n",
       "1998-10-01 03:00:00                 -2.5                  1.4  \n",
       "1998-10-01 04:00:00                 -2.0                  1.8  "
      ]
     },
     "execution_count": 5,
     "metadata": {},
     "output_type": "execute_result"
    }
   ],
   "source": [
    "df14216500.head()"
   ]
  },
  {
   "cell_type": "markdown",
   "metadata": {},
   "source": [
    "### Set a time constant\n",
    "So that the time of the sample data aligns with the time of the NeuralHydrology evaluation. This will allow us to compare the implementation of the LSTM through BMI with that of the training. There will be some discrepancy between the NeuralHydrology evaluation, because that uses a 336 hour lookback period, and our BMI implementation does not reset the states. We will soon add the option to do a specific lookback period or not."
   ]
  },
  {
   "cell_type": "code",
   "execution_count": 6,
   "metadata": {},
   "outputs": [],
   "source": [
    "t2000 = 168721"
   ]
  },
  {
   "cell_type": "markdown",
   "metadata": {},
   "source": [
    "# Test the model with the limited input"
   ]
  },
  {
   "cell_type": "code",
   "execution_count": 7,
   "metadata": {
    "tags": []
   },
   "outputs": [
    {
     "name": "stdout",
     "output_type": "stream",
     "text": [
      "../trained_neuralhydrology_models/nh_AORC_hourly_25yr_1210_112435\n",
      "../trained_neuralhydrology_models/nh_AORC_hourly_25yr_1210_112435\n",
      "{'APCP_surface': 0.1423874795436859, 'DLWRF_surface': 303.1827697753906, 'DSWRF_surface': 188.4970245361328, 'PRES_surface': 92957.4453125, 'QObs(mm/h)': 0.07123023271560669, 'SPFH_2maboveground': 0.007006556261330843, 'TMP_2maboveground': 283.87200927734375, 'UGRD_10maboveground': 0.97260981798172, 'VGRD_10maboveground': 0.4705375134944916}\n",
      "{'APCP_surface': 0.8294922113418579, 'DLWRF_surface': 149.94964599609375, 'DSWRF_surface': 226.2925262451172, 'PRES_surface': 35709.50390625, 'QObs(mm/h)': 0.16732385754585266, 'SPFH_2maboveground': 0.005186231806874275, 'TMP_2maboveground': 98.63380432128906, 'UGRD_10maboveground': 2.5150809288024902, 'VGRD_10maboveground': 2.7686984539031982}\n",
      "{'elev_mean': 715.0357281553398, 'slope_mean': 45.73078805825243}\n",
      "{'elev_mean': 772.9868594812874, 'slope_mean': 46.97479379837598}\n",
      "###########################\n",
      "input_mean\n",
      "[1.42387480e-01 2.83872009e+02 3.03182770e+02 1.88497025e+02\n",
      " 9.29574453e+04 7.00655626e-03 9.72609818e-01 4.70537513e-01\n",
      " 7.15035728e+02 4.57307881e+01]\n",
      "input_std\n",
      "[8.29492211e-01 9.86338043e+01 1.49949646e+02 2.26292526e+02\n",
      " 3.57095039e+04 5.18623181e-03 2.51508093e+00 2.76869845e+00\n",
      " 7.72986859e+02 4.69747938e+01]\n",
      "out_mean\n",
      "0.07123023271560669\n",
      "out_std\n",
      "0.16732385754585266\n",
      "../trained_neuralhydrology_models/nh_AORC_hourly_25yr_1210_112435\n",
      "Initializing all forcings to 0...\n",
      "  forcing_name = APCP_surface\n",
      "  forcing_name = TMP_2maboveground\n",
      "  forcing_name = DLWRF_surface\n",
      "  forcing_name = DSWRF_surface\n",
      "  forcing_name = PRES_surface\n",
      "  forcing_name = SPFH_2maboveground\n",
      "  forcing_name = UGRD_10maboveground\n",
      "  forcing_name = VGRD_10maboveground\n",
      "Forcing data info:\n",
      "  n_precip = 78912\n",
      "  n_temp   = 78912\n",
      "  precip_data.dtype = float64\n",
      "  temp_data.dtype   = float64\n",
      "  precip:  min, max = 0.0 , 25.7\n",
      "  temp:    min, max = 258.5 , 310.0\n",
      "\n",
      "Working, please wait...\n"
     ]
    },
    {
     "name": "stderr",
     "output_type": "stream",
     "text": [
      "/Users/jmframe/miniconda3/envs/bmi_lstm/lib/python3.10/site-packages/lstm/bmi_lstm.py:248: FutureWarning: You are using `torch.load` with `weights_only=False` (the current default value), which uses the default pickle module implicitly. It is possible to construct malicious pickle data which will execute arbitrary code during unpickling (See https://github.com/pytorch/pytorch/blob/main/SECURITY.md#untrusted-models for more details). In a future release, the default value for `weights_only` will be flipped to `True`. This limits the functions that could be executed during unpickling. Arbitrary objects will no longer be allowed to be loaded via this mode unless they are explicitly allowlisted by the user via `torch.serialization.add_safe_globals`. We recommend you start setting `weights_only=True` for any use case where you don't have full control of the loaded file. Please open an issue on GitHub for any issues related to this experimental feature.\n",
      "  trained_state_dict = torch.load(trained_model_file, map_location=torch.device('cpu'))\n"
     ]
    },
    {
     "data": {
      "image/png": "[encoded data removed]",
      "text/plain": [
       "<Figure size 600x400 with 1 Axes>"
      ]
     },
     "metadata": {},
     "output_type": "display_data"
    },
    {
     "ename": "ValueError",
     "evalue": "operands could not be broadcast together with shapes (78912,) (78911,) ",
     "output_type": "error",
     "traceback": [
      "\u001b[0;31m---------------------------------------------------------------------------\u001b[0m",
      "\u001b[0;31mValueError\u001b[0m                                Traceback (most recent call last)",
      "Cell \u001b[0;32mIn[7], line 99\u001b[0m\n\u001b[1;32m     97\u001b[0m \u001b[38;5;66;03m### sim = np.array(runoff_output_list_limited)\u001b[39;00m\n\u001b[1;32m     98\u001b[0m denominator \u001b[38;5;241m=\u001b[39m ((obs \u001b[38;5;241m-\u001b[39m obs\u001b[38;5;241m.\u001b[39mmean())\u001b[38;5;241m*\u001b[39m\u001b[38;5;241m*\u001b[39m\u001b[38;5;241m2\u001b[39m)\u001b[38;5;241m.\u001b[39msum()\n\u001b[0;32m---> 99\u001b[0m numerator \u001b[38;5;241m=\u001b[39m ((\u001b[43msim\u001b[49m\u001b[43m \u001b[49m\u001b[38;5;241;43m-\u001b[39;49m\u001b[43m \u001b[49m\u001b[43mobs\u001b[49m)\u001b[38;5;241m*\u001b[39m\u001b[38;5;241m*\u001b[39m\u001b[38;5;241m2\u001b[39m)\u001b[38;5;241m.\u001b[39msum()\n\u001b[1;32m    100\u001b[0m value \u001b[38;5;241m=\u001b[39m \u001b[38;5;241m1\u001b[39m \u001b[38;5;241m-\u001b[39m numerator \u001b[38;5;241m/\u001b[39m denominator\n\u001b[1;32m    101\u001b[0m \u001b[38;5;28mprint\u001b[39m(\u001b[38;5;124m\"\u001b[39m\u001b[38;5;124mNSE: \u001b[39m\u001b[38;5;132;01m{:.2f}\u001b[39;00m\u001b[38;5;124m\"\u001b[39m\u001b[38;5;241m.\u001b[39mformat(\u001b[38;5;241m1\u001b[39m \u001b[38;5;241m-\u001b[39m numerator \u001b[38;5;241m/\u001b[39m denominator))\n",
      "\u001b[0;31mValueError\u001b[0m: operands could not be broadcast together with shapes (78912,) (78911,) "
     ]
    }
   ],
   "source": [
    "\n",
    "\n",
    "# Create an instance of the LSTM model with BMI\n",
    "model_limited = bmi_lstm.bmi_LSTM()\n",
    "\n",
    "# Initialize the model with a configuration file\n",
    "model_limited.initialize(bmi_cfg_file=Path('../bmi_config_files/01022500_nh_AORC_hourly_25yr_1210_112435.yml'))\n",
    "\n",
    "# Run the model with sample data\n",
    "\n",
    "# Get sample data time series for precip and temp\n",
    "APCP_surface = df14216500[\"APCP_surface\"] # - APCP_surface\n",
    "TMP_2maboveground   = df14216500['TMP_2maboveground'] # - TMP_2maboveground\n",
    "DLWRF_surface = df14216500[\"DLWRF_surface\"]\n",
    "DSWRF_surface = df14216500[\"DSWRF_surface\"]\n",
    "PRES_surface = df14216500[\"PRES_surface\"]\n",
    "SPFH_2maboveground = df14216500[\"SPFH_2maboveground\"]\n",
    "UGRD_10maboveground = df14216500[\"UGRD_10maboveground\"]\n",
    "VGRD_10maboveground = df14216500[\"VGRD_10maboveground\"]\n",
    "n_precip    = APCP_surface.size\n",
    "print('Forcing data info:')\n",
    "print('  n_precip =', n_precip)\n",
    "print('  n_temp   =', TMP_2maboveground.size)\n",
    "print('  precip_data.dtype =', APCP_surface.dtype)\n",
    "print('  temp_data.dtype   =', TMP_2maboveground.dtype)\n",
    "print('  precip:  min, max =', APCP_surface.min(), ',', APCP_surface.max() )\n",
    "print('  temp:    min, max =', TMP_2maboveground.min(), ',', TMP_2maboveground.max() )\n",
    "print()\n",
    "\n",
    "# Store output values in a list, so we can plot it afterwards\n",
    "# runoff_output_list_limited = []\n",
    "\n",
    "# Store output values in an array, so we can plot it afterwards (faster)\n",
    "runoff_output_limited = np.zeros( n_precip )\n",
    "\n",
    "k = 0\n",
    "VERBOSE = False\n",
    "print('Working, please wait...')\n",
    "for k in range( n_precip ):\n",
    "    precip = APCP_surface[k]\n",
    "    temp   = TMP_2maboveground[k]\n",
    "    dlwrf = DLWRF_surface[k]\n",
    "    dswrf = DSWRF_surface[k]\n",
    "    pres = PRES_surface[k]\n",
    "    spfh = SPFH_2maboveground[k]\n",
    "    ugrd = UGRD_10maboveground[k]\n",
    "    vgrd = VGRD_10maboveground[k]\n",
    "    if (VERBOSE):\n",
    "        print('k, precip, temp =', k, ',', precip, ',', temp)\n",
    "\n",
    "    # Set the model forcings to those in the sample data\n",
    "    # model_limited.set_value('atmosphere_water__time_integral_of_precipitation_mass_flux', precip)\n",
    "    model_limited.set_value('atmosphere_water__liquid_equivalent_precipitation_rate', precip)\n",
    "    model_limited.set_value('land_surface_air__temperature',temp)\n",
    "    model_limited.set_value('land_surface_radiation~incoming~longwave__energy_flux',dlwrf)\n",
    "    model_limited.set_value('land_surface_air__pressure',pres)\n",
    "    model_limited.set_value('atmosphere_air_water~vapor__relative_saturation',spfh)\n",
    "    model_limited.set_value('land_surface_radiation~incoming~shortwave__energy_flux',dswrf)\n",
    "    model_limited.set_value('land_surface_wind__x_component_of_velocity',ugrd)\n",
    "    model_limited.set_value('land_surface_wind__y_component_of_velocity', vgrd)\n",
    "\n",
    "    # Updating the model calculates the runoff from the inputs and the model state at this time step\n",
    "    model_limited.update()\n",
    "\n",
    "    # Add the output to a list so we can plot\n",
    "    dest_array = np.zeros(1)\n",
    "    #model_limited.get_value('land_surface_water__runoff_volume_flux',dest_array)\n",
    "    model_limited.get_value('land_surface_water__runoff_depth', dest_array)\n",
    "    runoff_limited = dest_array[0]\n",
    "    # print('val =', runoff_limited)\n",
    "    \n",
    "    #------------------------------------------------\n",
    "    # Make output unit consistant with CAMELS mm/hr\n",
    "    #------------------------------------------------\n",
    "    runoff_limited *= 1000   # (correct factor is 1000)\n",
    "    # print('val =', runoff_limited)\n",
    "    runoff_output_limited[ k ] = runoff_limited\n",
    "    # runoff_output_list_limited.append(runoff_limited)\n",
    "\n",
    "    \n",
    "# Plot a portion of the output.\n",
    "# start_plot=17000\n",
    "# end_plot  =24000\n",
    "start_plot=0\n",
    "end_plot  =700\n",
    "plt.figure(figsize=(6, 4))\n",
    "plt.plot(runoff_output_limited[start_plot:end_plot],label='LSTM BMI')\n",
    "plt.plot(usgs_obs.values[start_plot:end_plot],label='USGS Observation')\n",
    "#plt.ylim([0,0.5])\n",
    "plt.ylabel('streamflow mm/hr')\n",
    "plt.xlabel('hours')\n",
    "plt.legend()\n",
    "plt.show()\n",
    "plt.close()\n",
    "\n",
    "# # Calculate a metric\n",
    "# obs = np.array(usgs_obs['discharge_cfs'])\n",
    "# sim = runoff_output_limited\n",
    "# ### sim = np.array(runoff_output_list_limited)\n",
    "# denominator = ((obs - obs.mean())**2).sum()\n",
    "# numerator = ((sim - obs)**2).sum()\n",
    "# value = 1 - numerator / denominator\n",
    "# print(\"NSE: {:.2f}\".format(1 - numerator / denominator))"
   ]
  },
  {
   "cell_type": "code",
   "execution_count": 9,
   "metadata": {},
   "outputs": [
    {
     "data": {
      "text/plain": [
       "[<matplotlib.lines.Line2D at 0x14e59bc10>]"
      ]
     },
     "execution_count": 9,
     "metadata": {},
     "output_type": "execute_result"
    },
    {
     "data": {
      "image/png": "[encoded data removed]",
      "text/plain": [
       "<Figure size 640x480 with 1 Axes>"
      ]
     },
     "metadata": {},
     "output_type": "display_data"
    }
   ],
   "source": [
    "plt.plot(runoff_output_limited[start_plot:],label='LSTM BMI')"
   ]
  },
  {
   "cell_type": "markdown",
   "metadata": {},
   "source": [
    "# Test the model with the complete set of inputs"
   ]
  },
  {
   "cell_type": "code",
   "execution_count": null,
   "metadata": {},
   "outputs": [],
   "source": [
    "# Load in the evaluation results from the NeuralHydrology training directory. This is just for plotting\n",
    "## with open(\"../trained_neuralhydrology_models/hourly_all_attributes_and_forcings/test_results_01022500_E1.p\", \"rb\") as fb:\n",
    "with open(\"./trained_neuralhydrology_models/hourly_all_attributes_and_forcings/test_results_01022500_E1.p\", \"rb\") as fb:\n",
    "    eval_hourly_all_attributes_forcings_01022500_E1 = pickle.load(fb)\n",
    "nh_hourly_all_attributes_forcings_01022500 = \\\n",
    "    eval_hourly_all_attributes_forcings_01022500_E1['01022500']['1H']['xr']['QObs(mm/d)_sim'].data[:,-1]/24\n",
    "\n",
    "# Create an instance of the LSTM model with BMI\n",
    "model_all = bmi_lstm.bmi_LSTM()\n",
    "\n",
    "# Initialize the model with a configuration file\n",
    "## model_all.initialize(bmi_cfg_file=Path('../bmi_config_files/01022500_hourly_all_attributes_forcings.yml'))\n",
    "model_all.initialize(bmi_cfg_file=Path('./bmi_config_files/01022500_hourly_all_attributes_forcings.yml'))\n",
    "\n",
    "# The basin listed in the configuration has to be included in the sample basins for this example to run\n",
    "# This is the location of the example basin in the sample data provided\n",
    "ibasin = sample_basins[model_all.cfg_bmi['basin_id']]\n",
    "# Note that this model can run on any basin, but this example include observations from specific basins\n",
    "\n",
    "# Get sample data time series for precip and temp\n",
    "precip_data = sample_data['total_precipitation'][ibasin].data\n",
    "temp_data   = sample_data['temperature'][ibasin].data\n",
    "lwrad_data  = sample_data['longwave_radiation'][ibasin].data\n",
    "swrad_data  = sample_data['shortwave_radiation'][ibasin].data\n",
    "sh_data     = sample_data['specific_humidity'][ibasin].data\n",
    "p0_data     = sample_data['pressure'][ibasin].data\n",
    "uwind_data  = sample_data['wind_u'][ibasin].data\n",
    "vwind_data  = sample_data['wind_v'][ibasin].data\n",
    "n_precip    = precip_data.size\n",
    "\n",
    "print('Partial forcing data info:')\n",
    "print('  n_precip =', n_precip)\n",
    "print('  n_temp   =', temp_data.size)\n",
    "print('  precip_data.dtype =', precip_data.dtype)\n",
    "print('  temp_data.dtype   =', temp_data.dtype)\n",
    "print('  precip:  min, max =', precip_data.min(), ',', precip_data.max() )\n",
    "print('  temp:    min, max =', temp_data.min(), ',', temp_data.max() )\n",
    "print()\n",
    "\n",
    "# Store output values in a list, so we can plot it afterwards\n",
    "# runoff_output_list_limited = []\n",
    "\n",
    "# Store output values in an array, so we can plot it afterwards (faster)\n",
    "runoff_output_all = np.zeros( n_precip )\n",
    "\n",
    "# Run the model with sample data\n",
    "\n",
    "k = 0\n",
    "VERBOSE = False\n",
    "print('Working, please wait...')\n",
    "for k in range( n_precip ): \n",
    "    if (VERBOSE):\n",
    "        print('k, precip, temp =', k, ',', precip_data[k], ',', temp_data[k])\n",
    "\n",
    "    # Set the model forcings to those in the sample data\n",
    "    model_all.set_value('atmosphere_water__liquid_equivalent_precipitation_rate', precip_data[k] )\n",
    "    model_all.set_value('land_surface_air__temperature',temp_data[k] )\n",
    "    model_all.set_value('land_surface_radiation~incoming~longwave__energy_flux', lwrad_data[k] )\n",
    "    model_all.set_value('land_surface_radiation~incoming~shortwave__energy_flux', swrad_data[k] )\n",
    "    model_all.set_value('atmosphere_air_water~vapor__relative_saturation', sh_data[k] )\n",
    "    model_all.set_value('land_surface_air__pressure', p0_data[k] )\n",
    "    model_all.set_value('land_surface_wind__x_component_of_velocity', uwind_data[k] )\n",
    "    model_all.set_value('land_surface_wind__y_component_of_velocity', vwind_data[k] )\n",
    "\n",
    "    # Updating the model calculates the runoff from the inputs and the model state at this time step\n",
    "    model_all.update()\n",
    "    \n",
    "    # Add the output to a list so we can plot\n",
    "    model_all.get_value('land_surface_water__runoff_depth', dest_array)\n",
    "    runoff_all = dest_array[0]\n",
    "    runoff_all *= 1000   # (correct factor is 1000)\n",
    "    # print('val =', runoff_all)\n",
    "    #------------------------------------------------\n",
    "    runoff_output_all[ k ] = runoff_all\n",
    "    # runoff_output_list_all.append( runoff_all )\n",
    "    \n",
    "# Plot a portion of the output.\n",
    "# start_plot = 0   # (use values already set previous cell)\n",
    "# end_plot   = 7000\n",
    "plt.figure(figsize=(10, 7))\n",
    "plt.plot(sample_data['qobs_CAMELS_mm_per_hour'][ibasin][start_plot:end_plot], label='obs', c='k')\n",
    "plt.plot(runoff_output_all[start_plot:end_plot],label='LSTM BMI')\n",
    "## plt.plot(runoff_output_list_all[start_plot:end_plot],label='LSTM BMI')\n",
    "plt.plot(nh_hourly_all_attributes_forcings_01022500[t2000+start_plot:t2000+end_plot],label='LSTM NH')\n",
    "#plt.ylim([0,0.5])\n",
    "plt.ylabel('streamflow mm/hr')\n",
    "plt.xlabel('hours')\n",
    "plt.legend()\n",
    "plt.show()\n",
    "plt.close()\n",
    "\n",
    "# Calculate a metric\n",
    "obs = np.array(sample_data['qobs_CAMELS_mm_per_hour'][ibasin])\n",
    "sim = runoff_output_all\n",
    "## sim = np.array(runoff_output_list_all)\n",
    "denominator = ((obs - obs.mean())**2).sum()\n",
    "numerator = ((sim - obs)**2).sum()\n",
    "value = 1 - numerator / denominator\n",
    "print(\"NSE: {:.2f}\".format(1 - numerator / denominator))\n",
    "\n"
   ]
  },
  {
   "cell_type": "markdown",
   "metadata": {},
   "source": [
    "# Just show the forcings, for reference."
   ]
  },
  {
   "cell_type": "code",
   "execution_count": null,
   "metadata": {},
   "outputs": [],
   "source": [
    "for forcing in ['total_precipitation', 'temperature', 'longwave_radiation', 'shortwave_radiation',\n",
    "                 'specific_humidity', 'pressure', 'wind_u', 'wind_v']:\n",
    "    plt.figure(figsize=(10, 7))\n",
    "    plt.plot(list(sample_data[forcing][ibasin].data)[start_plot:end_plot], '--', label=forcing)\n",
    "    plt.title(forcing)\n",
    "    plt.legend()\n",
    "    plt.show()\n",
    "    plt.close()\n"
   ]
  },
  {
   "cell_type": "code",
   "execution_count": null,
   "metadata": {},
   "outputs": [],
   "source": []
  },
  {
   "cell_type": "code",
   "execution_count": null,
   "metadata": {},
   "outputs": [],
   "source": []
  },
  {
   "cell_type": "code",
   "execution_count": null,
   "metadata": {},
   "outputs": [],
   "source": []
  },
  {
   "cell_type": "code",
   "execution_count": null,
   "metadata": {},
   "outputs": [],
   "source": []
  },
  {
   "cell_type": "code",
   "execution_count": null,
   "metadata": {},
   "outputs": [],
   "source": []
  }
 ],
 "metadata": {
  "kernelspec": {
   "display_name": "bmi_lstm",
   "language": "python",
   "name": "python3"
  },
  "language_info": {
   "codemirror_mode": {
    "name": "ipython",
    "version": 3
   },
   "file_extension": ".py",
   "mimetype": "text/x-python",
   "name": "python",
   "nbconvert_exporter": "python",
   "pygments_lexer": "ipython3",
   "version": "3.10.16"
  }
 },
 "nbformat": 4,
 "nbformat_minor": 4
}
