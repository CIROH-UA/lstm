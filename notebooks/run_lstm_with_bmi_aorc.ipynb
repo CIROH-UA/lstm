{
 "cells": [
  {
   "cell_type": "markdown",
   "metadata": {},
   "source": [
    "# Basic Model Interface (BMI) for streamflow prediction using Long Short-Term Memory (LSTM) networks\n",
    "This Long Short-Term Memory (LSTM) network was developed for use in the [Next Generation National Water Model (Nextgen)](https://github.com/NOAA-OWP/ngen). Nextgen runs models with [Basic Model Interface (BMI)](https://bmi.readthedocs.io/en/latest/)."
   ]
  },
  {
   "cell_type": "markdown",
   "metadata": {
    "tags": []
   },
   "source": [
    "### These libraries should all be available in the environment.yml through the command\n",
    "`conda activate bmi_lstm`\n",
    "#### Make sure that the library is installed\n",
    "`pip install lstm`"
   ]
  },
  {
   "cell_type": "code",
   "execution_count": 1,
   "metadata": {},
   "outputs": [],
   "source": [
    "import torch\n",
    "import numpy as np\n",
    "import matplotlib.pyplot as plt\n",
    "from pathlib import Path\n",
    "from netCDF4 import Dataset\n",
    "from lstm import bmi_lstm  # Load module bmi_lstm (bmi_lstm.py) from lstm package.\n",
    "import pickle\n",
    "import xarray as xr"
   ]
  },
  {
   "cell_type": "markdown",
   "metadata": {},
   "source": [
    "### Set path to the project/repo folder for the LSTM model\n",
    "\n",
    "When the LSTM Python model is used within NextGen, this folder will be in the \"ngen\" folder at: ngen/extern/lstm_py, and the LSTM Python package will be at: ngen/extern/{repo_name}/{package_name}.  Note that paths to required datasets will be relative to this project folder.\n",
    "\n",
    "You will need to set your full local path `lstm_dir` to directory where you cloned the repo\n"
   ]
  },
  {
   "cell_type": "code",
   "execution_count": 2,
   "metadata": {},
   "outputs": [],
   "source": [
    "import sys\n",
    "import os, os.path\n",
    "lstm_dir = os.path.expanduser('../lstm/')\n",
    "os.chdir( lstm_dir )\n",
    "import pandas as pd"
   ]
  },
  {
   "cell_type": "markdown",
   "metadata": {},
   "source": [
    "### This sample dataset comes from NeuralHydrology: \n",
    "These are just samples. These models can run with any forcing data. This is just a sample that is used for examples within NeuralHydrology.\n",
    "https://github.com/neuralhydrology/neuralhydrology/tree/master/test/test_data/camels_us/hourly\n",
    "* 02064000 Falling River nr Naruna, VA\n",
    "* 01547700 Marsh Creek at Blanchard, PA\n",
    "* 03015500 Brokenstraw Creek at Youngsville, PA\n",
    "* 01022500 Narraguagus River at Cherryfield, Maine"
   ]
  },
  {
   "cell_type": "code",
   "execution_count": 3,
   "metadata": {},
   "outputs": [],
   "source": [
    "basin_id = \"05057200\""
   ]
  },
  {
   "cell_type": "code",
   "execution_count": 4,
   "metadata": {},
   "outputs": [
    {
     "name": "stdout",
     "output_type": "stream",
     "text": [
      "                     usgs_obs model_pred\n",
      "date                                    \n",
      "1994-10-01 05:00:00  0.004039       None\n",
      "1994-10-01 06:00:00  0.004039       None\n",
      "1994-10-01 07:00:00  0.004039       None\n",
      "1994-10-01 08:00:00  0.004039       None\n",
      "1994-10-01 09:00:00  0.004039       None\n"
     ]
    }
   ],
   "source": [
    "# Load the USGS data\n",
    "file_path = f\"/Users/jmframe/CAMELS_data_sample/hourly/usgs-streamflow/{basin_id}-usgs-hourly.csv\"\n",
    "df_runoff = pd.read_csv(file_path)\n",
    "df_runoff = df_runoff.set_index(\"date\")\n",
    "df_runoff.index = pd.to_datetime(df_runoff.index)\n",
    "df_runoff = df_runoff[[\"QObs(mm/h)\"]].rename(columns={\"QObs(mm/h)\": \"usgs_obs\"})\n",
    "df_runoff[\"model_pred\"] = None\n",
    "print(df_runoff.head())"
   ]
  },
  {
   "cell_type": "code",
   "execution_count": 5,
   "metadata": {},
   "outputs": [
    {
     "name": "stdout",
     "output_type": "stream",
     "text": [
      "                     APCP_surface  DLWRF_surface  DSWRF_surface  PRES_surface  \\\n",
      "time                                                                            \n",
      "1994-10-01 05:00:00           0.0          324.8            0.0       96300.0   \n",
      "1994-10-01 06:00:00           0.0          293.0            0.0       96300.0   \n",
      "1994-10-01 07:00:00           0.0          291.9            0.0       96340.0   \n",
      "1994-10-01 08:00:00           0.0          291.0            0.0       96370.0   \n",
      "1994-10-01 09:00:00           0.0          274.7            0.0       96390.0   \n",
      "\n",
      "                     SPFH_2maboveground  TMP_2maboveground  \\\n",
      "time                                                         \n",
      "1994-10-01 05:00:00              0.0049              277.7   \n",
      "1994-10-01 06:00:00              0.0049              277.7   \n",
      "1994-10-01 07:00:00              0.0047              277.0   \n",
      "1994-10-01 08:00:00              0.0046              276.4   \n",
      "1994-10-01 09:00:00              0.0044              275.8   \n",
      "\n",
      "                     UGRD_10maboveground  VGRD_10maboveground  \n",
      "time                                                           \n",
      "1994-10-01 05:00:00                 -2.2                 -3.0  \n",
      "1994-10-01 06:00:00                 -2.1                 -2.0  \n",
      "1994-10-01 07:00:00                 -1.9                 -1.7  \n",
      "1994-10-01 08:00:00                 -1.7                 -1.5  \n",
      "1994-10-01 09:00:00                 -1.5                 -1.2  \n"
     ]
    }
   ],
   "source": [
    "forcing_file_path = f\"/Users/jmframe/CAMELS_data_sample/hourly/aorc_hourly/{basin_id}_1980_to_2024_agg_rounded.csv\"\n",
    "df_forcing = pd.read_csv(forcing_file_path)\n",
    "df_forcing = df_forcing.set_index(\"time\")\n",
    "df_forcing.index = pd.to_datetime(df_forcing.index)\n",
    "df_forcing = df_forcing[df_runoff.index[0]:df_runoff.index[-1]]\n",
    "print(df_forcing.head())"
   ]
  },
  {
   "cell_type": "code",
   "execution_count": 6,
   "metadata": {},
   "outputs": [],
   "source": [
    "# Load in model comparison data\n",
    "comparison_file_path = f\"/Users/jmframe/data/nh_runs/nh_AORC_hourly_25yr_1210_112435/test/model_epoch009/{basin_id}_test_results.csv\"\n",
    "df_nh = pd.read_csv(comparison_file_path)\n",
    "df_nh = df_nh.set_index(\"date\")\n",
    "df_nh.index = pd.to_datetime(df_nh.index)\n",
    "\n",
    "# Ensure the time alignment with `df_runoff`\n",
    "df_nh = df_nh.reindex(df_runoff.index)\n",
    "if \"QObs(mm/h)_sim\" in df_nh.columns:\n",
    "    df_runoff[\"nh\"] = df_nh[\"QObs(mm/h)_sim\"]"
   ]
  },
  {
   "cell_type": "code",
   "execution_count": 7,
   "metadata": {},
   "outputs": [
    {
     "name": "stdout",
     "output_type": "stream",
     "text": [
      "Will not print anything except errors because verbosity set to 0\n",
      "self.verbose 0\n",
      "WARNING: Using the first configuration file to get the scalar data. All ensemble members should have same scalars.\n"
     ]
    },
    {
     "name": "stderr",
     "output_type": "stream",
     "text": [
      "/Users/jmframe/miniconda3/envs/bmi_lstm/lib/python3.10/site-packages/lstm/bmi_lstm.py:268: FutureWarning: You are using `torch.load` with `weights_only=False` (the current default value), which uses the default pickle module implicitly. It is possible to construct malicious pickle data which will execute arbitrary code during unpickling (See https://github.com/pytorch/pytorch/blob/main/SECURITY.md#untrusted-models for more details). In a future release, the default value for `weights_only` will be flipped to `True`. This limits the functions that could be executed during unpickling. Arbitrary objects will no longer be allowed to be loaded via this mode unless they are explicitly allowlisted by the user via `torch.serialization.add_safe_globals`. We recommend you start setting `weights_only=True` for any use case where you don't have full control of the loaded file. Please open an issue on GitHub for any issues related to this experimental feature.\n",
      "  trained_state_dict = torch.load(trained_model_file, map_location=torch.device('cpu'))\n"
     ]
    }
   ],
   "source": [
    "# Create an instance of the LSTM model with BMI\n",
    "model_instance = bmi_lstm.bmi_LSTM()\n",
    "\n",
    "# Initialize the model with a configuration file\n",
    "model_instance.initialize(bmi_cfg_file=Path(f'../bmi_config_files/{basin_id}_nh_AORC_hourly_ensemble.yml'))"
   ]
  },
  {
   "cell_type": "code",
   "execution_count": 8,
   "metadata": {},
   "outputs": [],
   "source": [
    "# Add ensemble columns to the runoff DataFrame\n",
    "for i_ens in range(model_instance.N_ENS):\n",
    "    df_runoff[f\"ensemble_{i_ens+1}\"] = None  # Initialize ensemble columns with None"
   ]
  },
  {
   "cell_type": "code",
   "execution_count": 9,
   "metadata": {},
   "outputs": [
    {
     "data": {
      "text/html": [
       "<div>\n",
       "<style scoped>\n",
       "    .dataframe tbody tr th:only-of-type {\n",
       "        vertical-align: middle;\n",
       "    }\n",
       "\n",
       "    .dataframe tbody tr th {\n",
       "        vertical-align: top;\n",
       "    }\n",
       "\n",
       "    .dataframe thead th {\n",
       "        text-align: right;\n",
       "    }\n",
       "</style>\n",
       "<table border=\"1\" class=\"dataframe\">\n",
       "  <thead>\n",
       "    <tr style=\"text-align: right;\">\n",
       "      <th></th>\n",
       "      <th>usgs_obs</th>\n",
       "      <th>model_pred</th>\n",
       "      <th>nh</th>\n",
       "      <th>ensemble_1</th>\n",
       "      <th>ensemble_2</th>\n",
       "      <th>ensemble_3</th>\n",
       "    </tr>\n",
       "    <tr>\n",
       "      <th>date</th>\n",
       "      <th></th>\n",
       "      <th></th>\n",
       "      <th></th>\n",
       "      <th></th>\n",
       "      <th></th>\n",
       "      <th></th>\n",
       "    </tr>\n",
       "  </thead>\n",
       "  <tbody>\n",
       "    <tr>\n",
       "      <th>1994-10-01 05:00:00</th>\n",
       "      <td>0.004039</td>\n",
       "      <td>None</td>\n",
       "      <td>NaN</td>\n",
       "      <td>None</td>\n",
       "      <td>None</td>\n",
       "      <td>None</td>\n",
       "    </tr>\n",
       "    <tr>\n",
       "      <th>1994-10-01 06:00:00</th>\n",
       "      <td>0.004039</td>\n",
       "      <td>None</td>\n",
       "      <td>NaN</td>\n",
       "      <td>None</td>\n",
       "      <td>None</td>\n",
       "      <td>None</td>\n",
       "    </tr>\n",
       "    <tr>\n",
       "      <th>1994-10-01 07:00:00</th>\n",
       "      <td>0.004039</td>\n",
       "      <td>None</td>\n",
       "      <td>NaN</td>\n",
       "      <td>None</td>\n",
       "      <td>None</td>\n",
       "      <td>None</td>\n",
       "    </tr>\n",
       "    <tr>\n",
       "      <th>1994-10-01 08:00:00</th>\n",
       "      <td>0.004039</td>\n",
       "      <td>None</td>\n",
       "      <td>NaN</td>\n",
       "      <td>None</td>\n",
       "      <td>None</td>\n",
       "      <td>None</td>\n",
       "    </tr>\n",
       "    <tr>\n",
       "      <th>1994-10-01 09:00:00</th>\n",
       "      <td>0.004039</td>\n",
       "      <td>None</td>\n",
       "      <td>NaN</td>\n",
       "      <td>None</td>\n",
       "      <td>None</td>\n",
       "      <td>None</td>\n",
       "    </tr>\n",
       "    <tr>\n",
       "      <th>...</th>\n",
       "      <td>...</td>\n",
       "      <td>...</td>\n",
       "      <td>...</td>\n",
       "      <td>...</td>\n",
       "      <td>...</td>\n",
       "      <td>...</td>\n",
       "    </tr>\n",
       "    <tr>\n",
       "      <th>2013-10-02 20:00:00</th>\n",
       "      <td>0.000288</td>\n",
       "      <td>None</td>\n",
       "      <td>NaN</td>\n",
       "      <td>None</td>\n",
       "      <td>None</td>\n",
       "      <td>None</td>\n",
       "    </tr>\n",
       "    <tr>\n",
       "      <th>2013-10-02 21:00:00</th>\n",
       "      <td>0.000284</td>\n",
       "      <td>None</td>\n",
       "      <td>NaN</td>\n",
       "      <td>None</td>\n",
       "      <td>None</td>\n",
       "      <td>None</td>\n",
       "    </tr>\n",
       "    <tr>\n",
       "      <th>2013-10-02 22:00:00</th>\n",
       "      <td>0.000284</td>\n",
       "      <td>None</td>\n",
       "      <td>NaN</td>\n",
       "      <td>None</td>\n",
       "      <td>None</td>\n",
       "      <td>None</td>\n",
       "    </tr>\n",
       "    <tr>\n",
       "      <th>2013-10-02 23:00:00</th>\n",
       "      <td>0.000288</td>\n",
       "      <td>None</td>\n",
       "      <td>NaN</td>\n",
       "      <td>None</td>\n",
       "      <td>None</td>\n",
       "      <td>None</td>\n",
       "    </tr>\n",
       "    <tr>\n",
       "      <th>2013-10-03 00:00:00</th>\n",
       "      <td>0.000288</td>\n",
       "      <td>None</td>\n",
       "      <td>NaN</td>\n",
       "      <td>None</td>\n",
       "      <td>None</td>\n",
       "      <td>None</td>\n",
       "    </tr>\n",
       "  </tbody>\n",
       "</table>\n",
       "<p>166604 rows × 6 columns</p>\n",
       "</div>"
      ],
      "text/plain": [
       "                     usgs_obs model_pred  nh ensemble_1 ensemble_2 ensemble_3\n",
       "date                                                                         \n",
       "1994-10-01 05:00:00  0.004039       None NaN       None       None       None\n",
       "1994-10-01 06:00:00  0.004039       None NaN       None       None       None\n",
       "1994-10-01 07:00:00  0.004039       None NaN       None       None       None\n",
       "1994-10-01 08:00:00  0.004039       None NaN       None       None       None\n",
       "1994-10-01 09:00:00  0.004039       None NaN       None       None       None\n",
       "...                       ...        ...  ..        ...        ...        ...\n",
       "2013-10-02 20:00:00  0.000288       None NaN       None       None       None\n",
       "2013-10-02 21:00:00  0.000284       None NaN       None       None       None\n",
       "2013-10-02 22:00:00  0.000284       None NaN       None       None       None\n",
       "2013-10-02 23:00:00  0.000288       None NaN       None       None       None\n",
       "2013-10-03 00:00:00  0.000288       None NaN       None       None       None\n",
       "\n",
       "[166604 rows x 6 columns]"
      ]
     },
     "execution_count": 9,
     "metadata": {},
     "output_type": "execute_result"
    }
   ],
   "source": [
    "df_runoff"
   ]
  },
  {
   "cell_type": "markdown",
   "metadata": {},
   "source": [
    "# Test the model BMI implimentation"
   ]
  },
  {
   "cell_type": "code",
   "execution_count": 10,
   "metadata": {
    "tags": []
   },
   "outputs": [
    {
     "name": "stdout",
     "output_type": "stream",
     "text": [
      "Working, please wait...\n",
      "NSE: 0.21\n"
     ]
    }
   ],
   "source": [
    "\n",
    "# Iterate through the forcing DataFrame and calculate model predictions\n",
    "print('Working, please wait...')\n",
    "for idx, row in df_forcing.iterrows():\n",
    "    # Extract forcing data for the current timestep\n",
    "    precip = row[\"APCP_surface\"]\n",
    "    temp = row[\"TMP_2maboveground\"]\n",
    "    dlwrf = row[\"DLWRF_surface\"]\n",
    "    dswrf = row[\"DSWRF_surface\"]\n",
    "    pres = row[\"PRES_surface\"]\n",
    "    spfh = row[\"SPFH_2maboveground\"]\n",
    "    ugrd = row[\"UGRD_10maboveground\"]\n",
    "    vgrd = row[\"VGRD_10maboveground\"]\n",
    "\n",
    "    # Check if any of the inputs are NaN\n",
    "    if np.isnan([precip, temp, dlwrf, dswrf, pres, spfh, ugrd, vgrd]).any():\n",
    "        if model_instance.verbose > 0:\n",
    "            print(f\"Skipping timestep {idx} due to NaN values in inputs.\")\n",
    "        continue\n",
    "\n",
    "    # Set the model forcings\n",
    "    model_instance.set_value('atmosphere_water__liquid_equivalent_precipitation_rate', precip)\n",
    "    model_instance.set_value('land_surface_air__temperature', temp)\n",
    "    model_instance.set_value('land_surface_radiation~incoming~longwave__energy_flux', dlwrf)\n",
    "    model_instance.set_value('land_surface_radiation~incoming~shortwave__energy_flux', dswrf)\n",
    "    model_instance.set_value('land_surface_air__pressure', pres)\n",
    "    model_instance.set_value('atmosphere_air_water~vapor__relative_saturation', spfh)\n",
    "    model_instance.set_value('land_surface_wind__x_component_of_velocity', ugrd)\n",
    "    model_instance.set_value('land_surface_wind__y_component_of_velocity', vgrd)\n",
    "\n",
    "    # Update the model\n",
    "    model_instance.update()\n",
    "\n",
    "    # Retrieve and scale the runoff output\n",
    "    dest_array = np.zeros(1)\n",
    "    model_instance.get_value('land_surface_water__runoff_depth', dest_array)\n",
    "    land_surface_water__runoff_depth = dest_array[0] * 1000  # Convert to mm/hr\n",
    "\n",
    "    # Add ensemble member values to the DataFrame\n",
    "    for i_ens in range(model_instance.N_ENS):\n",
    "        df_runoff.loc[idx, f\"ensemble_{i_ens+1}\"] = model_instance.surface_runoff_mm[i_ens]  # Add individual ensemble member values\n",
    "\n",
    "\n",
    "    # Add the output to the DataFrame\n",
    "    df_runoff.loc[idx, \"model_pred\"] = land_surface_water__runoff_depth\n",
    "\n",
    "# Ensure \"model_pred\" is numeric\n",
    "df_runoff[\"model_pred\"] = pd.to_numeric(df_runoff[\"model_pred\"], errors=\"coerce\")\n",
    "\n",
    "# Calculate NSE for the model predictions\n",
    "obs = df_runoff[\"usgs_obs\"].dropna()\n",
    "sim = df_runoff[\"model_pred\"].dropna()\n",
    "\n",
    "# Align indices of observation and simulation for metric calculation\n",
    "common_index = obs.index.intersection(sim.index)\n",
    "obs = obs.loc[common_index].values\n",
    "sim = sim.loc[common_index].values\n",
    "\n",
    "denominator = ((obs - obs.mean()) ** 2).sum()\n",
    "numerator = ((sim - obs) ** 2).sum()\n",
    "nse = 1 - numerator / denominator\n",
    "print(f\"NSE: {nse:.2f}\")"
   ]
  },
  {
   "cell_type": "code",
   "execution_count": 14,
   "metadata": {},
   "outputs": [
    {
     "data": {
      "image/png": "[encoded data removed]",
      "text/plain": [
       "<Figure size 600x400 with 1 Axes>"
      ]
     },
     "metadata": {},
     "output_type": "display_data"
    }
   ],
   "source": [
    "plot_start = \"1995\"\n",
    "plot_end = \"1995\"\n",
    "\n",
    "# Plot the runoff predictions and observations\n",
    "plt.figure(figsize=(6, 4))\n",
    "\n",
    "# Plot ensemble members in grey\n",
    "for i_ens in range(model_instance.N_ENS):\n",
    "    plt.plot(\n",
    "        df_runoff.loc[plot_start:plot_end].index, \n",
    "        df_runoff.loc[plot_start:plot_end][f\"ensemble_{i_ens+1}\"], \n",
    "        color=\"grey\", \n",
    "        alpha=0.5, \n",
    "        linewidth=0.8,\n",
    "        label=\"_nolegend_\" if i_ens != 0 else \"Ensemble Members\"  # Only add legend for the first line\n",
    "    )\n",
    "\n",
    "# Plot mean prediction and observation\n",
    "plt.plot(df_runoff.loc[plot_start:plot_end].index, df_runoff.loc[plot_start:plot_end][\"model_pred\"], label=\"Model Mean Prediction\", color=\"blue\")\n",
    "plt.plot(df_runoff.loc[plot_start:plot_end].index, df_runoff.loc[plot_start:plot_end][\"usgs_obs\"], label=\"USGS Observation\", color=\"orange\")\n",
    "\n",
    "# Add labels and legend\n",
    "plt.ylabel(\"Runoff (mm/hr)\")\n",
    "plt.title(f\"Runoff Comparison: Model vs. Observation {basin_id}\")\n",
    "plt.xticks(rotation=45)\n",
    "plt.legend()\n",
    "plt.tight_layout()\n",
    "plt.show()"
   ]
  },
  {
   "cell_type": "code",
   "execution_count": null,
   "metadata": {},
   "outputs": [],
   "source": []
  }
 ],
 "metadata": {
  "kernelspec": {
   "display_name": "bmi_lstm",
   "language": "python",
   "name": "python3"
  },
  "language_info": {
   "codemirror_mode": {
    "name": "ipython",
    "version": 3
   },
   "file_extension": ".py",
   "mimetype": "text/x-python",
   "name": "python",
   "nbconvert_exporter": "python",
   "pygments_lexer": "ipython3",
   "version": "3.10.16"
  }
 },
 "nbformat": 4,
 "nbformat_minor": 4
}
